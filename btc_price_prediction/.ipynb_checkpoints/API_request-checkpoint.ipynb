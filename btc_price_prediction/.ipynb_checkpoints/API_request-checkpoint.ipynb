{
 "cells": [
  {
   "cell_type": "code",
   "execution_count": 1,
   "id": "2c772dbd-dc8c-4446-8789-2f84f97713bf",
   "metadata": {
    "tags": []
   },
   "outputs": [
    {
     "name": "stdout",
     "output_type": "stream",
     "text": [
      "/bin/bash: /home/katori0508/miniconda3/envs/tf/lib/libtinfo.so.6: no version information available (required by /bin/bash)\n",
      "Requirement already satisfied: requests in /home/katori0508/miniconda3/envs/tf/lib/python3.11/site-packages (2.31.0)\n",
      "Requirement already satisfied: charset-normalizer<4,>=2 in /home/katori0508/miniconda3/envs/tf/lib/python3.11/site-packages (from requests) (3.2.0)\n",
      "Requirement already satisfied: idna<4,>=2.5 in /home/katori0508/miniconda3/envs/tf/lib/python3.11/site-packages (from requests) (3.4)\n",
      "Requirement already satisfied: urllib3<3,>=1.21.1 in /home/katori0508/miniconda3/envs/tf/lib/python3.11/site-packages (from requests) (1.26.16)\n",
      "Requirement already satisfied: certifi>=2017.4.17 in /home/katori0508/miniconda3/envs/tf/lib/python3.11/site-packages (from requests) (2023.7.22)\n"
     ]
    }
   ],
   "source": [
    "!pip install requests"
   ]
  },
  {
   "cell_type": "code",
   "execution_count": 6,
   "id": "af18ccf6-a94e-4577-b67b-f9f91f809aef",
   "metadata": {
    "tags": []
   },
   "outputs": [
    {
     "name": "stdout",
     "output_type": "stream",
     "text": [
      "Data saved to BTC-USD.csv\n"
     ]
    }
   ],
   "source": [
    "import requests\n",
    "import csv\n",
    "from datetime import datetime\n",
    "\n",
    "url = \"https://coinranking1.p.rapidapi.com/coin/Qwsogvtv82FCd/history\"\n",
    "querystring = {\"referenceCurrencyUuid\": \"yhjMzLPhuIDl\", \"timePeriod\": \"5y\"}\n",
    "headers = {\n",
    "    \"X-RapidAPI-Key\": \"\",\n",
    "    \"X-RapidAPI-Host\": \"\",\n",
    "}\n",
    "\n",
    "try:\n",
    "    response = requests.get(url, headers=headers, params=querystring)\n",
    "    response.raise_for_status()\n",
    "\n",
    "    # Parse the JSON response\n",
    "    data = response.json()\n",
    "\n",
    "    # Specify the CSV file path\n",
    "    csv_file_path = \"BTC-USD.csv\"\n",
    "\n",
    "    # Write data to CSV file\n",
    "    with open(csv_file_path, mode=\"w\", newline=\"\") as csv_file:\n",
    "        writer = csv.writer(csv_file)\n",
    "\n",
    "        # Write header\n",
    "        writer.writerow([\"price\", \"timestamp\", \"Date\"])\n",
    "\n",
    "        # Write data rows\n",
    "        for entry in data[\"data\"][\"history\"]:\n",
    "            timestamp = entry[\"timestamp\"]\n",
    "            datetime_str = datetime.utcfromtimestamp(timestamp).strftime('%Y-%m-%d %H:%M:%S')\n",
    "            writer.writerow([entry[\"price\"], entry[\"timestamp\"], datetime_str])\n",
    "\n",
    "    print(f\"Data saved to {csv_file_path}\")\n",
    "except requests.exceptions.HTTPError as errh:\n",
    "    print(f\"HTTP Error: {errh}\")\n",
    "except requests.exceptions.RequestException as err:\n",
    "    print(f\"Request Error: {err}\")\n"
   ]
  },
  {
   "cell_type": "code",
   "execution_count": null,
   "id": "68675f51-70fd-4f55-9b7a-a7ce2d1b235b",
   "metadata": {},
   "outputs": [],
   "source": []
  }
 ],
 "metadata": {
  "kernelspec": {
   "display_name": "Python 3 (ipykernel)",
   "language": "python",
   "name": "python3"
  },
  "language_info": {
   "codemirror_mode": {
    "name": "ipython",
    "version": 3
   },
   "file_extension": ".py",
   "mimetype": "text/x-python",
   "name": "python",
   "nbconvert_exporter": "python",
   "pygments_lexer": "ipython3",
   "version": "3.11.4"
  }
 },
 "nbformat": 4,
 "nbformat_minor": 5
}
